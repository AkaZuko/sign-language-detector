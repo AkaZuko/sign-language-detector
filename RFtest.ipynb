{
 "cells": [
  {
   "cell_type": "code",
   "execution_count": 15,
   "metadata": {
    "collapsed": true
   },
   "outputs": [],
   "source": [
    "from sklearn.ensemble import RandomForestClassifier\n",
    "from skimage import io\n",
    "import numpy as np\n",
    "import os"
   ]
  },
  {
   "cell_type": "code",
   "execution_count": 19,
   "metadata": {
    "collapsed": false
   },
   "outputs": [],
   "source": [
    "# to get the data from the disk\n",
    "#print os.listdir('./trial_data/cropped/')\n",
    "\n",
    "base_dir = './trial_data/cropped/'\n",
    "for dir_path, dir_name, file_name in os.walk(base_dir):\n",
    "    for dirName in dir_name:\n",
    "        label = int(dirName)\n",
    "        cur_path = base_dir + dirName + '/'\n",
    "        for dir_path_, dir_name_, file_name_ in os.walk(cur_path):\n",
    "            for f_name in file_name:\n",
    "                img = io.imread(os.path(cur_path + file_name))\n",
    "    break"
   ]
  },
  {
   "cell_type": "code",
   "execution_count": null,
   "metadata": {
    "collapsed": true
   },
   "outputs": [],
   "source": []
  }
 ],
 "metadata": {
  "kernelspec": {
   "display_name": "Python 2",
   "language": "python",
   "name": "python2"
  },
  "language_info": {
   "codemirror_mode": {
    "name": "ipython",
    "version": 2
   },
   "file_extension": ".py",
   "mimetype": "text/x-python",
   "name": "python",
   "nbconvert_exporter": "python",
   "pygments_lexer": "ipython2",
   "version": "2.7.12"
  }
 },
 "nbformat": 4,
 "nbformat_minor": 1
}
