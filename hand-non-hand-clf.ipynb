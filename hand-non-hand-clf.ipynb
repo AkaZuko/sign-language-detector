{
 "cells": [
  {
   "cell_type": "code",
   "execution_count": 80,
   "metadata": {
    "collapsed": true
   },
   "outputs": [],
   "source": [
    "%matplotlib inline\n",
    "import random\n",
    "from skimage import io\n",
    "from skimage.transform import resize"
   ]
  },
  {
   "cell_type": "code",
   "execution_count": 81,
   "metadata": {
    "collapsed": true
   },
   "outputs": [],
   "source": [
    "def IOU(A,B):\n",
    "    x_overlap = max(0, min(B[0],B[2]) - max(A[0],A[2]))\n",
    "    y_overlap = max(0, min(B[1],B[3]) - max(A[1],A[3]))\n",
    "    inter = x_overlap * y_overlap;\n",
    "    \n",
    "    \n",
    "#     x1 = max(A[0],B[0])\n",
    "#     y1 = max(A[1],B[1])\n",
    "#     x2 = min(A[2],B[2])\n",
    "#     y2 = min(A[3],B[3])\n",
    "    \n",
    "#     w = x2 - x1 + 1\n",
    "#     h = y2 - y1 + 1\n",
    "    \n",
    "#     if w<=0 or h<=0:\n",
    "#         return 0\n",
    "    \n",
    "#     inter = w*h\n",
    "    \n",
    "    A_area = (A[2] - A[0] + 1)*(A[3] - A[1] + 1)\n",
    "    B_area = (B[2] - B[0] + 1)*(B[3] - B[1] + 1)\n",
    "    \n",
    "    # print B[0],B[1]\n",
    "    \n",
    "    union = (A_area + B_area - inter)*1.0\n",
    "    inter = inter*1.0\n",
    "    \n",
    "    return inter/union"
   ]
  },
  {
   "cell_type": "code",
   "execution_count": 82,
   "metadata": {
    "collapsed": false
   },
   "outputs": [],
   "source": [
    "base_dir = '/home/ayush/GPU_ML/ML/workspace/project/raw/'\n",
    "\n",
    "win_size = 128\n",
    "\n",
    "\n",
    "train_x_grp_1_pos = []\n",
    "train_y_grp_1_pos = []\n",
    "\n",
    "train_x_grp_2_pos = []\n",
    "train_y_grp_2_pos = []\n",
    "\n",
    "train_x_grp_3_pos = []\n",
    "train_y_grp_3_pos = []\n",
    "\n",
    "train_x_grp_4_pos = []\n",
    "train_y_grp_4_pos = []\n",
    "\n",
    "train_x_grp_5_pos = []\n",
    "train_y_grp_5_pos = []\n",
    "\n",
    "train_x_grp_1_neg = []\n",
    "train_y_grp_1_neg = []\n",
    "\n",
    "train_x_grp_2_neg = []\n",
    "train_y_grp_2_neg = []\n",
    "\n",
    "train_x_grp_3_neg = []\n",
    "train_y_grp_3_neg = []\n",
    "\n",
    "train_x_grp_4_neg = []\n",
    "train_y_grp_4_neg = []\n",
    "\n",
    "train_x_grp_5_neg = []\n",
    "train_y_grp_5_neg = []\n",
    "\n",
    "with open('bounding_boxes.csv','r') as f:\n",
    "    f.readline()\n",
    "    for line in f:\n",
    "        data = line.strip().split(',')\n",
    "        \n",
    "        file_name = data[0]\n",
    "        grp = int(file_name.split('_')[0]) - 1\n",
    "        \n",
    "        label_s = data[-1]\n",
    "        \n",
    "        x1,y1,x2,y2,label_i = map(int, data[1:])\n",
    "        \n",
    "        file_path = base_dir + label_s + '/' + file_name\n",
    "        img = io.imread(file_path, as_grey = True)\n",
    "        h,w = img.shape[:2]\n",
    "        \n",
    "        #  hand image\n",
    "        imgg = img[y1:y2,x1:x2]\n",
    "        imgg = resize(imgg, (win_size,win_size) )\n",
    "        if grp%4 == 0:\n",
    "            train_x_grp_1_pos.append(imgg)\n",
    "            train_y_grp_1_pos.append(1)\n",
    "        elif grp%2 == 1:\n",
    "            train_x_grp_2_pos.append(imgg)\n",
    "            train_y_grp_2_pos.append(1)\n",
    "        elif grp%2 == 2:\n",
    "            train_x_grp_3_pos.append(imgg)\n",
    "            train_y_grp_3_pos.append(1)\n",
    "        elif grp%2 == 3:\n",
    "            train_x_grp_4_pos.append(imgg)\n",
    "            train_y_grp_4_pos.append(1)\n",
    "        elif grp%2 == 4:\n",
    "            train_x_grp_5_pos.append(imgg)\n",
    "            train_y_grp_5_pos.append(1)\n",
    "        \n",
    "        # non-hand image\n",
    "        count = 0\n",
    "        A = [x1,y1,x2,y2]\n",
    "        \n",
    "        while True:\n",
    "            x1_r = random.randrange(0,w - win_size)\n",
    "            y1_r = random.randrange(0,h - win_size)\n",
    "            x2_r = x1_r + win_size\n",
    "            y2_r = y1_r + win_size\n",
    "            \n",
    "            if y2_r >= h or x2_r>=w:\n",
    "                continue\n",
    "            \n",
    "            B = [x1_r, y1_r, x2_r, y2_r]\n",
    "            \n",
    "            if IOU(A,B) < 0.1:\n",
    "                if grp%4 == 0:\n",
    "                    train_x_grp_1_neg.append(img[y1_r:y2_r,x1_r:x2_r])\n",
    "                    train_y_grp_1_neg.append(0)\n",
    "                elif grp%4 == 1:\n",
    "                    train_x_grp_2_neg.append(img[y1_r:y2_r,x1_r:x2_r])\n",
    "                    train_y_grp_2_neg.append(0)\n",
    "                elif grp%4 == 2:\n",
    "                    train_x_grp_3_neg.append(img[y1_r:y2_r,x1_r:x2_r])\n",
    "                    train_y_grp_3_neg.append(0)\n",
    "                elif grp%4 == 3:\n",
    "                    train_x_grp_4_neg.append(img[y1_r:y2_r,x1_r:x2_r])\n",
    "                    train_y_grp_4_neg.append(0)\n",
    "                elif grp%4 == 4:\n",
    "                    train_x_grp_5_neg.append(img[y1_r:y2_r,x1_r:x2_r])\n",
    "                    train_y_grp_5_neg.append(0)\n",
    "                \n",
    "                \n",
    "                count += 1\n",
    "            \n",
    "            if count >= 2:\n",
    "                break"
   ]
  },
  {
   "cell_type": "code",
   "execution_count": 83,
   "metadata": {
    "collapsed": false
   },
   "outputs": [
    {
     "data": {
      "text/plain": [
       "<matplotlib.image.AxesImage at 0x7f3b6c4c3190>"
      ]
     },
     "execution_count": 83,
     "metadata": {},
     "output_type": "execute_result"
    },
    {
     "data": {
      "image/png": "[encoded data removed]",
      "text/plain": [
       "<matplotlib.figure.Figure at 0x7f3b6d0c4dd0>"
      ]
     },
     "metadata": {},
     "output_type": "display_data"
    }
   ],
   "source": [
    "# print train_x_neg[1]\n",
    "io.imshow(train_x_grp_1_neg[0])"
   ]
  },
  {
   "cell_type": "code",
   "execution_count": 84,
   "metadata": {
    "collapsed": false
   },
   "outputs": [],
   "source": [
    "from sklearn import svm\n",
    "from skimage.feature import hog\n",
    "import numpy as np"
   ]
  },
  {
   "cell_type": "code",
   "execution_count": 85,
   "metadata": {
    "collapsed": true
   },
   "outputs": [],
   "source": [
    "train_x_grp_1_pos_hog = map(lambda x : hog(x), train_x_grp_1_pos)\n",
    "train_x_grp_2_pos_hog = map(lambda x : hog(x), train_x_grp_2_pos)\n",
    "train_x_grp_3_pos_hog = map(lambda x : hog(x), train_x_grp_3_pos)\n",
    "train_x_grp_4_pos_hog = map(lambda x : hog(x), train_x_grp_4_pos)\n",
    "train_x_grp_5_pos_hog = map(lambda x : hog(x), train_x_grp_5_pos)\n",
    "\n",
    "train_x_grp_1_neg_hog = map(lambda x : hog(x), train_x_grp_1_neg)\n",
    "train_x_grp_2_neg_hog = map(lambda x : hog(x), train_x_grp_2_neg)\n",
    "train_x_grp_3_neg_hog = map(lambda x : hog(x), train_x_grp_3_neg)\n",
    "train_x_grp_4_neg_hog = map(lambda x : hog(x), train_x_grp_4_neg)\n",
    "train_x_grp_5_neg_hog = map(lambda x : hog(x), train_x_grp_5_neg)"
   ]
  },
  {
   "cell_type": "code",
   "execution_count": 88,
   "metadata": {
    "collapsed": false
   },
   "outputs": [
    {
     "name": "stdout",
     "output_type": "stream",
     "text": [
      "0.949333333333\n"
     ]
    }
   ],
   "source": [
    "clf_1 = svm.LinearSVC()\n",
    "\n",
    "train_x_1 = train_x_grp_2_pos_hog + train_x_grp_3_pos_hog + train_x_grp_4_pos_hog  \\\n",
    "+ train_x_grp_2_neg_hog + train_x_grp_3_neg_hog + train_x_grp_4_neg_hog\n",
    "\n",
    "train_y_1 = train_y_grp_2_pos + train_y_grp_3_pos + train_y_grp_4_pos  \\\n",
    "+ train_y_grp_2_neg + train_y_grp_3_neg + train_y_grp_4_neg\n",
    "\n",
    "val_x_1 = train_x_grp_1_pos_hog + train_x_grp_1_neg_hog\n",
    "val_y_1 = train_y_grp_1_pos + train_y_grp_1_neg\n",
    "\n",
    "clf_1.fit(np.asarray(train_x_1),np.asarray(train_y_1))\n",
    "\n",
    "score_1 = clf_1.score(np.asarray(val_x_1), np.asarray(val_y_1))\n",
    "\n",
    "print score_1"
   ]
  },
  {
   "cell_type": "code",
   "execution_count": 90,
   "metadata": {
    "collapsed": false
   },
   "outputs": [
    {
     "name": "stdout",
     "output_type": "stream",
     "text": [
      "0.859\n"
     ]
    }
   ],
   "source": [
    "clf_2 = svm.LinearSVC()\n",
    "\n",
    "train_x_2 = train_x_grp_1_pos_hog + train_x_grp_3_pos_hog + train_x_grp_4_pos_hog \\\n",
    "+ train_x_grp_1_neg_hog + train_x_grp_3_neg_hog + train_x_grp_4_neg_hog\n",
    "\n",
    "train_y_2 = train_y_grp_1_pos + train_y_grp_3_pos + train_y_grp_4_pos  \\\n",
    "+ train_y_grp_1_neg + train_y_grp_3_neg + train_y_grp_4_neg\n",
    "\n",
    "val_x_2 = train_x_grp_2_pos_hog + train_x_grp_2_neg_hog\n",
    "val_y_2 = train_y_grp_2_pos + train_y_grp_2_neg\n",
    "\n",
    "clf_2.fit(np.asarray(train_x_2),np.asarray(train_y_2))\n",
    "\n",
    "score_2 = clf_2.score(np.asarray(val_x_2), np.asarray(val_y_2))\n",
    "\n",
    "print score_2"
   ]
  },
  {
   "cell_type": "code",
   "execution_count": 93,
   "metadata": {
    "collapsed": false
   },
   "outputs": [
    {
     "name": "stdout",
     "output_type": "stream",
     "text": [
      "0.98\n"
     ]
    }
   ],
   "source": [
    "clf_3 = svm.LinearSVC()\n",
    "\n",
    "train_x_3 = train_x_grp_1_pos_hog + train_x_grp_2_pos_hog + train_x_grp_4_pos_hog \\\n",
    "+ train_x_grp_1_neg_hog + train_x_grp_2_neg_hog + train_x_grp_4_neg_hog\n",
    "\n",
    "train_y_3 = train_y_grp_1_pos + train_y_grp_2_pos + train_y_grp_4_pos  \\\n",
    "+ train_y_grp_1_neg + train_y_grp_2_neg + train_y_grp_4_neg\n",
    "\n",
    "val_x_3 = train_x_grp_3_pos_hog + train_x_grp_3_neg_hog\n",
    "val_y_3 = train_y_grp_3_pos + train_y_grp_3_neg \n",
    "\n",
    "clf_3.fit(np.asarray(train_x_3),np.asarray(train_y_3))\n",
    "\n",
    "score_3 = clf_3.score(np.asarray(val_x_3), np.asarray(val_y_3))\n",
    "\n",
    "print score_3"
   ]
  },
  {
   "cell_type": "code",
   "execution_count": 96,
   "metadata": {
    "collapsed": false
   },
   "outputs": [
    {
     "name": "stdout",
     "output_type": "stream",
     "text": [
      "0.984\n",
      "Average : 0.943083\n"
     ]
    }
   ],
   "source": [
    "clf_4 = svm.LinearSVC()\n",
    "\n",
    "train_x_4 = train_x_grp_1_pos_hog + train_x_grp_2_pos_hog + train_x_grp_3_pos_hog \\\n",
    "+ train_x_grp_1_neg_hog + train_x_grp_2_neg_hog + train_x_grp_3_neg_hog\n",
    "\n",
    "train_y_4 = train_y_grp_1_pos + train_y_grp_2_pos + train_y_grp_3_pos  \\\n",
    "+ train_y_grp_1_neg + train_y_grp_2_neg + train_y_grp_3_neg\n",
    "\n",
    "val_x_4 = train_x_grp_4_pos_hog + train_x_grp_4_neg_hog\n",
    "val_y_4 = train_y_grp_4_pos + train_y_grp_4_neg\n",
    "\n",
    "clf_4.fit(np.asarray(train_x_4),np.asarray(train_y_4))\n",
    "\n",
    "score_4 = clf_4.score(np.asarray(val_x_4), np.asarray(val_y_4))\n",
    "\n",
    "print score_4\n",
    "\n",
    "print 'Average : %f' %((score_1 + score_2 + score_3 + score_4)/4)"
   ]
  },
  {
   "cell_type": "code",
   "execution_count": null,
   "metadata": {
    "collapsed": true
   },
   "outputs": [],
   "source": []
  }
 ],
 "metadata": {
  "kernelspec": {
   "display_name": "Python 2",
   "language": "python",
   "name": "python2"
  },
  "language_info": {
   "codemirror_mode": {
    "name": "ipython",
    "version": 2
   },
   "file_extension": ".py",
   "mimetype": "text/x-python",
   "name": "python",
   "nbconvert_exporter": "python",
   "pygments_lexer": "ipython2",
   "version": "2.7.12"
  }
 },
 "nbformat": 4,
 "nbformat_minor": 1
}
