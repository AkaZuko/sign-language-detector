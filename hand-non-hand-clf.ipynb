{
 "cells": [
  {
   "cell_type": "code",
   "execution_count": 2,
   "metadata": {
    "collapsed": true
   },
   "outputs": [],
   "source": [
    "%matplotlib inline\n",
    "import random\n",
    "from skimage import io\n",
    "from skimage.transform import resize\n",
    "from collections import defaultdict\n",
    "from sklearn import svm\n",
    "from sklearn.naive_bayes import GaussianNB\n",
    "from skimage.feature import hog\n",
    "import numpy as np"
   ]
  },
  {
   "cell_type": "code",
   "execution_count": 3,
   "metadata": {
    "collapsed": true
   },
   "outputs": [],
   "source": [
    "def IOU(A,B):\n",
    "    x_overlap = max(0, min(B[0],B[2]) - max(A[0],A[2]))\n",
    "    y_overlap = max(0, min(B[1],B[3]) - max(A[1],A[3]))\n",
    "    inter = x_overlap * y_overlap;\n",
    "    \n",
    "    \n",
    "#     x1 = max(A[0],B[0])\n",
    "#     y1 = max(A[1],B[1])\n",
    "#     x2 = min(A[2],B[2])\n",
    "#     y2 = min(A[3],B[3])\n",
    "    \n",
    "#     w = x2 - x1 + 1\n",
    "#     h = y2 - y1 + 1\n",
    "    \n",
    "#     if w<=0 or h<=0:\n",
    "#         return 0\n",
    "    \n",
    "#     inter = w*h\n",
    "    \n",
    "    A_area = (A[2] - A[0] + 1)*(A[3] - A[1] + 1)\n",
    "    B_area = (B[2] - B[0] + 1)*(B[3] - B[1] + 1)\n",
    "    \n",
    "    # print B[0],B[1]\n",
    "    \n",
    "    union = (A_area + B_area - inter)*1.0\n",
    "    inter = inter*1.0\n",
    "    \n",
    "    return inter/union"
   ]
  },
  {
   "cell_type": "code",
   "execution_count": 4,
   "metadata": {
    "collapsed": false
   },
   "outputs": [],
   "source": [
    "base_dir = '/home/ayush/GPU_ML/ML/workspace/project/raw/'\n",
    "\n",
    "win_size = 128\n",
    "\n",
    "\n",
    "train_x_grp_1_pos = []\n",
    "train_y_grp_1_pos = []\n",
    "\n",
    "train_x_grp_2_pos = []\n",
    "train_y_grp_2_pos = []\n",
    "\n",
    "train_x_grp_3_pos = []\n",
    "train_y_grp_3_pos = []\n",
    "\n",
    "train_x_grp_4_pos = []\n",
    "train_y_grp_4_pos = []\n",
    "\n",
    "train_x_grp_5_pos = []\n",
    "train_y_grp_5_pos = []\n",
    "\n",
    "train_x_grp_1_neg = []\n",
    "train_y_grp_1_neg = []\n",
    "\n",
    "train_x_grp_2_neg = []\n",
    "train_y_grp_2_neg = []\n",
    "\n",
    "train_x_grp_3_neg = []\n",
    "train_y_grp_3_neg = []\n",
    "\n",
    "train_x_grp_4_neg = []\n",
    "train_y_grp_4_neg = []\n",
    "\n",
    "train_x_grp_5_neg = []\n",
    "train_y_grp_5_neg = []\n",
    "\n",
    "with open('bounding_boxes.csv','r') as f:\n",
    "    f.readline()\n",
    "    for line in f:\n",
    "        data = line.strip().split(',')\n",
    "        \n",
    "        file_name = data[0]\n",
    "        grp = int(file_name.split('_')[0]) - 1\n",
    "        \n",
    "        label_s = data[-1]\n",
    "        \n",
    "        x1,y1,x2,y2,label_i = map(int, data[1:])\n",
    "        \n",
    "        file_path = base_dir + label_s + '/' + file_name\n",
    "        img = io.imread(file_path, as_grey = True)\n",
    "        h,w = img.shape[:2]\n",
    "        \n",
    "        #  hand image\n",
    "        imgg = img[y1:y2,x1:x2]\n",
    "        imgg = resize(imgg, (win_size,win_size) )\n",
    "        if grp/4 == 0:\n",
    "            train_x_grp_1_pos.append(imgg)\n",
    "            train_y_grp_1_pos.append(1)\n",
    "        elif grp/2 == 1:\n",
    "            train_x_grp_2_pos.append(imgg)\n",
    "            train_y_grp_2_pos.append(1)\n",
    "        elif grp/2 == 2:\n",
    "            train_x_grp_3_pos.append(imgg)\n",
    "            train_y_grp_3_pos.append(1)\n",
    "        elif grp/2 == 3:\n",
    "            train_x_grp_4_pos.append(imgg)\n",
    "            train_y_grp_4_pos.append(1)\n",
    "        elif grp/2 == 4:\n",
    "            train_x_grp_5_pos.append(imgg)\n",
    "            train_y_grp_5_pos.append(1)\n",
    "        \n",
    "        \n",
    "        # non-hand image\n",
    "        count = 0\n",
    "        A = [x1,y1,x2,y2]\n",
    "        \n",
    "        while True:\n",
    "            x1_r = random.randrange(0,w - win_size)\n",
    "            y1_r = random.randrange(0,h - win_size)\n",
    "            x2_r = x1_r + win_size\n",
    "            y2_r = y1_r + win_size\n",
    "            \n",
    "            if y2_r >= h or x2_r>=w:\n",
    "                continue\n",
    "            \n",
    "            B = [x1_r, y1_r, x2_r, y2_r]\n",
    "            \n",
    "            if IOU(A,B) < 0.1:\n",
    "                if grp/4 == 0:\n",
    "                    train_x_grp_1_neg.append(img[y1_r:y2_r,x1_r:x2_r])\n",
    "                    train_y_grp_1_neg.append(0)\n",
    "                elif grp/4 == 1:\n",
    "                    train_x_grp_2_neg.append(img[y1_r:y2_r,x1_r:x2_r])\n",
    "                    train_y_grp_2_neg.append(0)\n",
    "                elif grp/4 == 2:\n",
    "                    train_x_grp_3_neg.append(img[y1_r:y2_r,x1_r:x2_r])\n",
    "                    train_y_grp_3_neg.append(0)\n",
    "                elif grp/4 == 3:\n",
    "                    train_x_grp_4_neg.append(img[y1_r:y2_r,x1_r:x2_r])\n",
    "                    train_y_grp_4_neg.append(0)\n",
    "                elif grp/4 == 4:\n",
    "                    train_x_grp_5_neg.append(img[y1_r:y2_r,x1_r:x2_r])\n",
    "                    train_y_grp_5_neg.append(0)\n",
    "                \n",
    "                \n",
    "                count += 1\n",
    "            \n",
    "            if count >= 2:\n",
    "                break"
   ]
  },
  {
   "cell_type": "code",
   "execution_count": 5,
   "metadata": {
    "collapsed": false
   },
   "outputs": [
    {
     "data": {
      "text/plain": [
       "<matplotlib.image.AxesImage at 0x7fa2e1a21f50>"
      ]
     },
     "execution_count": 5,
     "metadata": {},
     "output_type": "execute_result"
    },
    {
     "data": {
      "image/png": "[encoded data removed]",
      "text/plain": [
       "<matplotlib.figure.Figure at 0x7fa310c924d0>"
      ]
     },
     "metadata": {},
     "output_type": "display_data"
    }
   ],
   "source": [
    "# print train_x_neg[1]\n",
    "io.imshow(train_x_grp_1_neg[0])"
   ]
  },
  {
   "cell_type": "code",
   "execution_count": 7,
   "metadata": {
    "collapsed": true
   },
   "outputs": [],
   "source": [
    "train_x_grp_1_pos_hog = map(lambda x : hog(x), train_x_grp_1_pos)\n",
    "train_x_grp_2_pos_hog = map(lambda x : hog(x), train_x_grp_2_pos)\n",
    "train_x_grp_3_pos_hog = map(lambda x : hog(x), train_x_grp_3_pos)\n",
    "train_x_grp_4_pos_hog = map(lambda x : hog(x), train_x_grp_4_pos)\n",
    "train_x_grp_5_pos_hog = map(lambda x : hog(x), train_x_grp_5_pos)\n",
    "\n",
    "train_x_grp_1_neg_hog = map(lambda x : hog(x), train_x_grp_1_neg)\n",
    "train_x_grp_2_neg_hog = map(lambda x : hog(x), train_x_grp_2_neg)\n",
    "train_x_grp_3_neg_hog = map(lambda x : hog(x), train_x_grp_3_neg)\n",
    "train_x_grp_4_neg_hog = map(lambda x : hog(x), train_x_grp_4_neg)\n",
    "train_x_grp_5_neg_hog = map(lambda x : hog(x), train_x_grp_5_neg)"
   ]
  },
  {
   "cell_type": "code",
   "execution_count": 22,
   "metadata": {
    "collapsed": true
   },
   "outputs": [],
   "source": [
    "train_x_1 = train_x_grp_2_pos_hog + train_x_grp_3_pos_hog + train_x_grp_4_pos_hog  \\\n",
    "+ train_x_grp_2_neg_hog + train_x_grp_3_neg_hog + train_x_grp_4_neg_hog\n",
    "\n",
    "train_y_1 = train_y_grp_2_pos + train_y_grp_3_pos + train_y_grp_4_pos  \\\n",
    "+ train_y_grp_2_neg + train_y_grp_3_neg + train_y_grp_4_neg\n",
    "\n",
    "val_x_1 = train_x_grp_1_pos_hog + train_x_grp_1_neg_hog\n",
    "val_y_1 = train_y_grp_1_pos + train_y_grp_1_neg\n",
    "\n",
    "\n",
    "train_x_2 = train_x_grp_1_pos_hog + train_x_grp_3_pos_hog + train_x_grp_4_pos_hog \\\n",
    "+ train_x_grp_1_neg_hog + train_x_grp_3_neg_hog + train_x_grp_4_neg_hog\n",
    "\n",
    "train_y_2 = train_y_grp_1_pos + train_y_grp_3_pos + train_y_grp_4_pos  \\\n",
    "+ train_y_grp_1_neg + train_y_grp_3_neg + train_y_grp_4_neg\n",
    "\n",
    "val_x_2 = train_x_grp_2_pos_hog + train_x_grp_2_neg_hog\n",
    "val_y_2 = train_y_grp_2_pos + train_y_grp_2_neg\n",
    "\n",
    "\n",
    "train_x_3 = train_x_grp_1_pos_hog + train_x_grp_2_pos_hog + train_x_grp_4_pos_hog \\\n",
    "+ train_x_grp_1_neg_hog + train_x_grp_2_neg_hog + train_x_grp_4_neg_hog\n",
    "\n",
    "train_y_3 = train_y_grp_1_pos + train_y_grp_2_pos + train_y_grp_4_pos  \\\n",
    "+ train_y_grp_1_neg + train_y_grp_2_neg + train_y_grp_4_neg\n",
    "\n",
    "val_x_3 = train_x_grp_3_pos_hog + train_x_grp_3_neg_hog\n",
    "val_y_3 = train_y_grp_3_pos + train_y_grp_3_neg \n",
    "\n",
    "\n",
    "train_x_4 = train_x_grp_1_pos_hog + train_x_grp_2_pos_hog + train_x_grp_3_pos_hog \\\n",
    "+ train_x_grp_1_neg_hog + train_x_grp_2_neg_hog + train_x_grp_3_neg_hog\n",
    "\n",
    "train_y_4 = train_y_grp_1_pos + train_y_grp_2_pos + train_y_grp_3_pos  \\\n",
    "+ train_y_grp_1_neg + train_y_grp_2_neg + train_y_grp_3_neg\n",
    "\n",
    "val_x_4 = train_x_grp_4_pos_hog + train_x_grp_4_neg_hog\n",
    "val_y_4 = train_y_grp_4_pos + train_y_grp_4_neg\n"
   ]
  },
  {
   "cell_type": "code",
   "execution_count": 23,
   "metadata": {
    "collapsed": false
   },
   "outputs": [
    {
     "name": "stdout",
     "output_type": "stream",
     "text": [
      "0.86\n"
     ]
    }
   ],
   "source": [
    "clf_1 = svm.LinearSVC()\n",
    "clf_1.fit(np.asarray(train_x_1),np.asarray(train_y_1))\n",
    "score_1 = clf_1.score(np.asarray(val_x_1), np.asarray(val_y_1))\n",
    "print score_1"
   ]
  },
  {
   "cell_type": "code",
   "execution_count": 24,
   "metadata": {
    "collapsed": false
   },
   "outputs": [
    {
     "name": "stdout",
     "output_type": "stream",
     "text": [
      "0.9725\n"
     ]
    }
   ],
   "source": [
    "clf_2 = svm.LinearSVC()\n",
    "clf_2.fit(np.asarray(train_x_2),np.asarray(train_y_2))\n",
    "score_2 = clf_2.score(np.asarray(val_x_2), np.asarray(val_y_2))\n",
    "print score_2"
   ]
  },
  {
   "cell_type": "code",
   "execution_count": 25,
   "metadata": {
    "collapsed": false
   },
   "outputs": [
    {
     "name": "stdout",
     "output_type": "stream",
     "text": [
      "0.946\n"
     ]
    }
   ],
   "source": [
    "clf_3 = svm.LinearSVC()\n",
    "clf_3.fit(np.asarray(train_x_3),np.asarray(train_y_3))\n",
    "score_3 = clf_3.score(np.asarray(val_x_3), np.asarray(val_y_3))\n",
    "print score_3"
   ]
  },
  {
   "cell_type": "code",
   "execution_count": 26,
   "metadata": {
    "collapsed": false
   },
   "outputs": [
    {
     "name": "stdout",
     "output_type": "stream",
     "text": [
      "0.962\n",
      "Average : 0.935125\n"
     ]
    }
   ],
   "source": [
    "clf_4 = svm.LinearSVC()\n",
    "clf_4.fit(np.asarray(train_x_4),np.asarray(train_y_4))\n",
    "score_4 = clf_4.score(np.asarray(val_x_4), np.asarray(val_y_4))\n",
    "print score_4\n",
    "print 'Average : %f' %((score_1 + score_2 + score_3 + score_4)/4)"
   ]
  },
  {
   "cell_type": "code",
   "execution_count": 27,
   "metadata": {
    "collapsed": false
   },
   "outputs": [
    {
     "name": "stdout",
     "output_type": "stream",
     "text": [
      "0.815\n"
     ]
    }
   ],
   "source": [
    "clf_11 = GaussianNB()\n",
    "clf_11.fit(np.asarray(train_x_1),np.asarray(train_y_1))\n",
    "score_11 = clf_11.score(np.asarray(val_x_1), np.asarray(val_y_1))\n",
    "print score_11"
   ]
  },
  {
   "cell_type": "code",
   "execution_count": 28,
   "metadata": {
    "collapsed": false
   },
   "outputs": [
    {
     "name": "stdout",
     "output_type": "stream",
     "text": [
      "0.9375\n"
     ]
    }
   ],
   "source": [
    "clf_22 = GaussianNB()\n",
    "clf_22.fit(np.asarray(train_x_2),np.asarray(train_y_2))\n",
    "score_22 = clf_22.score(np.asarray(val_x_2), np.asarray(val_y_2))\n",
    "print score_22"
   ]
  },
  {
   "cell_type": "code",
   "execution_count": 29,
   "metadata": {
    "collapsed": false
   },
   "outputs": [
    {
     "name": "stdout",
     "output_type": "stream",
     "text": [
      "0.91\n"
     ]
    }
   ],
   "source": [
    "clf_33 = GaussianNB()\n",
    "clf_33.fit(np.asarray(train_x_3),np.asarray(train_y_3))\n",
    "score_33 = clf_33.score(np.asarray(val_x_3), np.asarray(val_y_3))\n",
    "print score_33"
   ]
  },
  {
   "cell_type": "code",
   "execution_count": 30,
   "metadata": {
    "collapsed": false
   },
   "outputs": [
    {
     "name": "stdout",
     "output_type": "stream",
     "text": [
      "0.962\n",
      "Average : 0.906125\n"
     ]
    }
   ],
   "source": [
    "clf_44 = GaussianNB()\n",
    "clf_44.fit(np.asarray(train_x_4),np.asarray(train_y_4))\n",
    "score_44 = clf_44.score(np.asarray(val_x_4), np.asarray(val_y_4))\n",
    "print score_44\n",
    "print 'Average : %f' %((score_11 + score_22 + score_33 + score_44)/4)"
   ]
  },
  {
   "cell_type": "code",
   "execution_count": 31,
   "metadata": {
    "collapsed": true
   },
   "outputs": [],
   "source": [
    "'Testing using Naive Bayes clf'\n",
    "val_x_5 = train_x_grp_5_pos_hog + train_x_grp_5_neg_hog\n",
    "val_y_5 = train_y_grp_5_pos + train_y_grp_5_neg"
   ]
  },
  {
   "cell_type": "code",
   "execution_count": 32,
   "metadata": {
    "collapsed": false
   },
   "outputs": [],
   "source": [
    "'To get the scoring based on voting on classes given by the individual classifiers'\n",
    "def get_class_by_voting(clfs, data):\n",
    "    classes = defaultdict(int)\n",
    "    for clf in clfs:\n",
    "        classes[clf.predict(np.asarray([data]))[0]]=+1\n",
    "\n",
    "    maxx = 0\n",
    "    class_ = None\n",
    "    for cls in classes:\n",
    "        if classes[cls] > maxx:\n",
    "            maxx = classes[cls]\n",
    "            class_ = cls\n",
    "    if class_ is None:\n",
    "        print 'Aborting'\n",
    "        return -1\n",
    "    \n",
    "    return class_"
   ]
  },
  {
   "cell_type": "code",
   "execution_count": 53,
   "metadata": {
    "collapsed": true
   },
   "outputs": [],
   "source": [
    "def get_class_prob_by_avg(clfs, data):\n",
    "    classes = np.asarray([0.0, 0.0])\n",
    "    for clf in clfs:\n",
    "        classes+=clf.predict_proba(np.asarray([data]))[0]\n",
    "    classes /= 4\n",
    "    \n",
    "    # return the prob. of belonging to class 1\n",
    "    return classes[1]"
   ]
  },
  {
   "cell_type": "code",
   "execution_count": 55,
   "metadata": {
    "collapsed": false
   },
   "outputs": [],
   "source": [
    "def sliding_window(img, clfs):\n",
    "    conf_map = np.zeros(img.shape)\n",
    "    h,w = img.shape[:2]\n",
    "    stride = 1\n",
    "    win_size = 128\n",
    "    for y in range(0,h-win_size+1,stride):\n",
    "        for x in range(0,w-win_size+1,stride):\n",
    "            imgg = img[y:y+win_size, x:x+win_size]\n",
    "            hog_ = hog(imgg)\n",
    "            class_ = get_class_prob_by_avg(clfs, hog_)\n",
    "            for i in range(128):\n",
    "                for j in range(128):\n",
    "                    conf_map[y + i][x + j] = max(conf_map[y + i][x + j], class_)\n",
    "    return conf_map"
   ]
  },
  {
   "cell_type": "code",
   "execution_count": 35,
   "metadata": {
    "collapsed": false
   },
   "outputs": [
    {
     "name": "stdout",
     "output_type": "stream",
     "text": [
      "score : 0.896000\n"
     ]
    }
   ],
   "source": [
    "res = []\n",
    "for data in val_x_5:\n",
    "    class_ = get_class_by_voting([clf_1, clf_2, clf_3, clf_4],data)\n",
    "    if class_ == -1:\n",
    "        break\n",
    "    \n",
    "    res.append(class_)\n",
    "count = 0\n",
    "\n",
    "for index in range(len(res)):\n",
    "    if val_y_5[index] == res[index]:\n",
    "        count+=1\n",
    "print 'score : %f' %((count*1.0)/len(res))"
   ]
  },
  {
   "cell_type": "code",
   "execution_count": 36,
   "metadata": {
    "collapsed": false
   },
   "outputs": [
    {
     "name": "stdout",
     "output_type": "stream",
     "text": [
      "score : 0.846000\n"
     ]
    }
   ],
   "source": [
    "res = []\n",
    "for data in val_x_5:\n",
    "    class_ = get_class_by_voting([clf_11, clf_22, clf_33, clf_44],data)\n",
    "    if class_ == -1:\n",
    "        break\n",
    "    \n",
    "    res.append(class_)\n",
    "count = 0\n",
    "\n",
    "for index in range(len(res)):\n",
    "    if val_y_5[index] == res[index]:\n",
    "        count+=1\n",
    "print 'score : %f' %((count*1.0)/len(res))"
   ]
  },
  {
   "cell_type": "code",
   "execution_count": 50,
   "metadata": {
    "collapsed": false
   },
   "outputs": [
    {
     "name": "stdout",
     "output_type": "stream",
     "text": [
      "<type 'numpy.ndarray'>\n"
     ]
    }
   ],
   "source": [
    "# print clf_11.predict_proba(val_x_5)\n",
    "# print val_y_5[499]"
   ]
  },
  {
   "cell_type": "code",
   "execution_count": 56,
   "metadata": {
    "collapsed": false
   },
   "outputs": [
    {
     "data": {
      "text/plain": [
       "<matplotlib.image.AxesImage at 0x7fa2db470850>"
      ]
     },
     "execution_count": 56,
     "metadata": {},
     "output_type": "execute_result"
    },
    {
     "data": {
      "image/png": "[encoded data removed]",
      "text/plain": [
       "<matplotlib.figure.Figure at 0x7fa2db989110>"
      ]
     },
     "metadata": {},
     "output_type": "display_data"
    }
   ],
   "source": [
    "test_imgg = io.imread(base_dir + '1/1_31_1_cam1_0_raw.jpg',as_grey=True)\n",
    "conf_map_1 = sliding_window(test_imgg, [clf_11, clf_22, clf_33, clf_44])\n",
    "io.imshow(conf_map_1)"
   ]
  },
  {
   "cell_type": "code",
   "execution_count": 58,
   "metadata": {
    "collapsed": false
   },
   "outputs": [
    {
     "data": {
      "text/plain": [
       "<matplotlib.image.AxesImage at 0x7fa2d9a62e90>"
      ]
     },
     "execution_count": 58,
     "metadata": {},
     "output_type": "execute_result"
    },
    {
     "data": {
      "image/png": "[encoded data removed]",
      "text/plain": [
       "<matplotlib.figure.Figure at 0x7fa2db4a5150>"
      ]
     },
     "metadata": {},
     "output_type": "display_data"
    }
   ],
   "source": [
    "test_imgg1 = test_imgg.copy()\n",
    "test_imgg1[conf_map_1!=conf_map_1.max()] = 0\n",
    "io.imshow(test_imgg1)"
   ]
  },
  {
   "cell_type": "code",
   "execution_count": null,
   "metadata": {
    "collapsed": true
   },
   "outputs": [],
   "source": []
  }
 ],
 "metadata": {
  "kernelspec": {
   "display_name": "Python 2",
   "language": "python",
   "name": "python2"
  },
  "language_info": {
   "codemirror_mode": {
    "name": "ipython",
    "version": 2
   },
   "file_extension": ".py",
   "mimetype": "text/x-python",
   "name": "python",
   "nbconvert_exporter": "python",
   "pygments_lexer": "ipython2",
   "version": "2.7.12"
  }
 },
 "nbformat": 4,
 "nbformat_minor": 1
}
